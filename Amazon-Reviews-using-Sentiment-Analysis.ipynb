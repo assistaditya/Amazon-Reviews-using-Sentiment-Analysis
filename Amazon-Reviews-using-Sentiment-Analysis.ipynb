{
  "nbformat": 4,
  "nbformat_minor": 0,
  "metadata": {
    "colab": {
      "provenance": []
    },
    "kernelspec": {
      "name": "python3",
      "display_name": "Python 3"
    },
    "language_info": {
      "name": "python"
    }
  },
  "cells": [
    {
      "cell_type": "markdown",
      "source": [
        "Name- Aditya Abhay Panditrao.\n",
        "Reg No-22MCB0032"
      ],
      "metadata": {
        "id": "dueFxUomN8XY"
      }
    },
    {
      "cell_type": "markdown",
      "source": [
        "NAIVE BAYES"
      ],
      "metadata": {
        "id": "aTrpcAQH_4nu"
      }
    },
    {
      "cell_type": "code",
      "source": [
        "# Importing the libraries\n",
        "import numpy as np\n",
        "import matplotlib.pyplot as plt\n",
        "import pandas as pd\n",
        "import random"
      ],
      "metadata": {
        "id": "KyPcwCYp_7ak"
      },
      "execution_count": null,
      "outputs": []
    },
    {
      "cell_type": "code",
      "source": [
        "df = pd.read_csv('/content/1429_1.csv',skiprows=[16022])\n",
        "print(df)"
      ],
      "metadata": {
        "colab": {
          "base_uri": "https://localhost:8080/"
        },
        "id": "RNg79Bli_-3A",
        "outputId": "e52ad27e-473e-4fbb-fa68-e0af3423bfef"
      },
      "execution_count": null,
      "outputs": [
        {
          "output_type": "stream",
          "name": "stdout",
          "text": [
            "                         id  \\\n",
            "0      AVqkIhwDv8e3D1O-lebb   \n",
            "1      AVqkIhwDv8e3D1O-lebb   \n",
            "2      AVqkIhwDv8e3D1O-lebb   \n",
            "3      AVqkIhwDv8e3D1O-lebb   \n",
            "4      AVqkIhwDv8e3D1O-lebb   \n",
            "...                     ...   \n",
            "34654  AVpfiBlyLJeJML43-4Tp   \n",
            "34655  AVpfiBlyLJeJML43-4Tp   \n",
            "34656  AVpfiBlyLJeJML43-4Tp   \n",
            "34657  AVpfiBlyLJeJML43-4Tp   \n",
            "34658  AVpfiBlyLJeJML43-4Tp   \n",
            "\n",
            "                                                    name       asins   brand  \\\n",
            "0      All-New Fire HD 8 Tablet, 8 HD Display, Wi-Fi,...  B01AHB9CN2  Amazon   \n",
            "1      All-New Fire HD 8 Tablet, 8 HD Display, Wi-Fi,...  B01AHB9CN2  Amazon   \n",
            "2      All-New Fire HD 8 Tablet, 8 HD Display, Wi-Fi,...  B01AHB9CN2  Amazon   \n",
            "3      All-New Fire HD 8 Tablet, 8 HD Display, Wi-Fi,...  B01AHB9CN2  Amazon   \n",
            "4      All-New Fire HD 8 Tablet, 8 HD Display, Wi-Fi,...  B01AHB9CN2  Amazon   \n",
            "...                                                  ...         ...     ...   \n",
            "34654                                                NaN  B006GWO5WK  Amazon   \n",
            "34655                                                NaN  B006GWO5WK  Amazon   \n",
            "34656                                                NaN  B006GWO5WK  Amazon   \n",
            "34657                                                NaN  B006GWO5WK  Amazon   \n",
            "34658                                                NaN  B006GWO5WK  Amazon   \n",
            "\n",
            "                                              categories  \\\n",
            "0      Electronics,iPad & Tablets,All Tablets,Fire Ta...   \n",
            "1      Electronics,iPad & Tablets,All Tablets,Fire Ta...   \n",
            "2      Electronics,iPad & Tablets,All Tablets,Fire Ta...   \n",
            "3      Electronics,iPad & Tablets,All Tablets,Fire Ta...   \n",
            "4      Electronics,iPad & Tablets,All Tablets,Fire Ta...   \n",
            "...                                                  ...   \n",
            "34654  Computers/Tablets & Networking,Tablet & eBook ...   \n",
            "34655  Computers/Tablets & Networking,Tablet & eBook ...   \n",
            "34656  Computers/Tablets & Networking,Tablet & eBook ...   \n",
            "34657  Computers/Tablets & Networking,Tablet & eBook ...   \n",
            "34658  Computers/Tablets & Networking,Tablet & eBook ...   \n",
            "\n",
            "                                                    keys  \\\n",
            "0      841667104676,amazon/53004484,amazon/b01ahb9cn2...   \n",
            "1      841667104676,amazon/53004484,amazon/b01ahb9cn2...   \n",
            "2      841667104676,amazon/53004484,amazon/b01ahb9cn2...   \n",
            "3      841667104676,amazon/53004484,amazon/b01ahb9cn2...   \n",
            "4      841667104676,amazon/53004484,amazon/b01ahb9cn2...   \n",
            "...                                                  ...   \n",
            "34654  newamazonkindlefirehd9wpowerfastadaptercharger...   \n",
            "34655  newamazonkindlefirehd9wpowerfastadaptercharger...   \n",
            "34656  newamazonkindlefirehd9wpowerfastadaptercharger...   \n",
            "34657  newamazonkindlefirehd9wpowerfastadaptercharger...   \n",
            "34658  newamazonkindlefirehd9wpowerfastadaptercharger...   \n",
            "\n",
            "                       manufacturer              reviews.date  \\\n",
            "0                            Amazon  2017-01-13T00:00:00.000Z   \n",
            "1                            Amazon  2017-01-13T00:00:00.000Z   \n",
            "2                            Amazon  2017-01-13T00:00:00.000Z   \n",
            "3                            Amazon  2017-01-13T00:00:00.000Z   \n",
            "4                            Amazon  2017-01-12T00:00:00.000Z   \n",
            "...                             ...                       ...   \n",
            "34654  Amazon Digital Services, Inc      2012-09-18T00:00:00Z   \n",
            "34655  Amazon Digital Services, Inc      2012-11-21T00:00:00Z   \n",
            "34656  Amazon Digital Services, Inc      2012-10-19T00:00:00Z   \n",
            "34657  Amazon Digital Services, Inc      2012-10-31T00:00:00Z   \n",
            "34658  Amazon Digital Services, Inc      2012-12-23T00:00:00Z   \n",
            "\n",
            "          reviews.dateAdded  \\\n",
            "0      2017-07-03T23:33:15Z   \n",
            "1      2017-07-03T23:33:15Z   \n",
            "2      2017-07-03T23:33:15Z   \n",
            "3      2017-07-03T23:33:15Z   \n",
            "4      2017-07-03T23:33:15Z   \n",
            "...                     ...   \n",
            "34654                   NaN   \n",
            "34655                   NaN   \n",
            "34656                   NaN   \n",
            "34657                   NaN   \n",
            "34658                   NaN   \n",
            "\n",
            "                                        reviews.dateSeen  ...  \\\n",
            "0      2017-06-07T09:04:00.000Z,2017-04-30T00:45:00.000Z  ...   \n",
            "1      2017-06-07T09:04:00.000Z,2017-04-30T00:45:00.000Z  ...   \n",
            "2      2017-06-07T09:04:00.000Z,2017-04-30T00:45:00.000Z  ...   \n",
            "3      2017-06-07T09:04:00.000Z,2017-04-30T00:45:00.000Z  ...   \n",
            "4      2017-06-07T09:04:00.000Z,2017-04-30T00:45:00.000Z  ...   \n",
            "...                                                  ...  ...   \n",
            "34654                               2015-08-29T00:00:00Z  ...   \n",
            "34655                               2015-09-02T00:00:00Z  ...   \n",
            "34656                               2015-09-04T00:00:00Z  ...   \n",
            "34657                               2015-09-01T00:00:00Z  ...   \n",
            "34658                               2015-11-01T00:00:00Z  ...   \n",
            "\n",
            "      reviews.doRecommend reviews.id  reviews.numHelpful  reviews.rating  \\\n",
            "0                    True        NaN                 0.0             5.0   \n",
            "1                    True        NaN                 0.0             5.0   \n",
            "2                    True        NaN                 0.0             5.0   \n",
            "3                    True        NaN                 0.0             4.0   \n",
            "4                    True        NaN                 0.0             5.0   \n",
            "...                   ...        ...                 ...             ...   \n",
            "34654                 NaN        NaN                 NaN             3.0   \n",
            "34655                 NaN        NaN                 NaN             1.0   \n",
            "34656                 NaN        NaN                 NaN             1.0   \n",
            "34657                 NaN        NaN                 NaN             1.0   \n",
            "34658                 NaN        NaN                 NaN             1.0   \n",
            "\n",
            "                                      reviews.sourceURLs  \\\n",
            "0      http://reviews.bestbuy.com/3545/5620406/review...   \n",
            "1      http://reviews.bestbuy.com/3545/5620406/review...   \n",
            "2      http://reviews.bestbuy.com/3545/5620406/review...   \n",
            "3      http://reviews.bestbuy.com/3545/5620406/review...   \n",
            "4      http://reviews.bestbuy.com/3545/5620406/review...   \n",
            "...                                                  ...   \n",
            "34654  http://www.amazon.com/Amazon-PowerFast-Adapter...   \n",
            "34655  http://www.amazon.com/Amazon-PowerFast-Adapter...   \n",
            "34656  http://www.amazon.com/Amazon-PowerFast-Adapter...   \n",
            "34657  http://www.amazon.com/Amazon-PowerFast-Adapter...   \n",
            "34658  http://www.amazon.com/Amazon-PowerFast-Adapter...   \n",
            "\n",
            "                                            reviews.text  \\\n",
            "0      This product so far has not disappointed. My c...   \n",
            "1      great for beginner or experienced person. Boug...   \n",
            "2      Inexpensive tablet for him to use and learn on...   \n",
            "3      I've had my Fire HD 8 two weeks now and I love...   \n",
            "4      I bought this for my grand daughter when she c...   \n",
            "...                                                  ...   \n",
            "34654  This is not appreciably faster than any other ...   \n",
            "34655  Amazon should include this charger with the Ki...   \n",
            "34656  Love my Kindle Fire but I am really disappoint...   \n",
            "34657  I was surprised to find it did not come with a...   \n",
            "34658  to spite the fact that i have nothing but good...   \n",
            "\n",
            "                                           reviews.title reviews.userCity  \\\n",
            "0                                                 Kindle              NaN   \n",
            "1                                              very fast              NaN   \n",
            "2                Beginner tablet for our 9 year old son.              NaN   \n",
            "3                                                Good!!!              NaN   \n",
            "4                              Fantastic Tablet for kids              NaN   \n",
            "...                                                  ...              ...   \n",
            "34654  Not appreciably faster than any other 1.8A cha...              NaN   \n",
            "34655                                 Should be included              NaN   \n",
            "34656                              Disappointing Charger              NaN   \n",
            "34657                                Not worth the money              NaN   \n",
            "34658                              as with everyone else              NaN   \n",
            "\n",
            "       reviews.userProvince  reviews.username  \n",
            "0                       NaN           Adapter  \n",
            "1                       NaN            truman  \n",
            "2                       NaN             DaveZ  \n",
            "3                       NaN            Shacks  \n",
            "4                       NaN         explore42  \n",
            "...                     ...               ...  \n",
            "34654                   NaN              Kris  \n",
            "34655                   NaN  Jonathan Stewart  \n",
            "34656                   NaN          J Lawson  \n",
            "34657                   NaN    Just the Buyer  \n",
            "34658                   NaN             sandi  \n",
            "\n",
            "[34659 rows x 21 columns]\n"
          ]
        },
        {
          "output_type": "stream",
          "name": "stderr",
          "text": [
            "<ipython-input-3-0fa116f04dcc>:1: DtypeWarning: Columns (1,10) have mixed types. Specify dtype option on import or set low_memory=False.\n",
            "  df = pd.read_csv('/content/1429_1.csv',skiprows=[16022])\n",
            "<ipython-input-3-0fa116f04dcc>:2: FutureWarning: In a future version, object-dtype columns with all-bool values will not be included in reductions with bool_only=True. Explicitly cast to bool dtype instead.\n",
            "  print(df)\n"
          ]
        }
      ]
    },
    {
      "cell_type": "code",
      "source": [
        "df.info()"
      ],
      "metadata": {
        "colab": {
          "base_uri": "https://localhost:8080/"
        },
        "id": "IJqUOTZFKEdu",
        "outputId": "2d275ccd-af92-46ea-eff2-d64bc8f5e220"
      },
      "execution_count": null,
      "outputs": [
        {
          "output_type": "stream",
          "name": "stdout",
          "text": [
            "<class 'pandas.core.frame.DataFrame'>\n",
            "Int64Index: 34061 entries, 0 to 34623\n",
            "Data columns (total 4 columns):\n",
            " #   Column  Non-Null Count  Dtype \n",
            "---  ------  --------------  ----- \n",
            " 0   0       34061 non-null  object\n",
            " 1   1       34061 non-null  object\n",
            " 2   2       34061 non-null  object\n",
            " 3   3       34061 non-null  object\n",
            "dtypes: object(4)\n",
            "memory usage: 1.3+ MB\n"
          ]
        }
      ]
    },
    {
      "cell_type": "code",
      "source": [
        "df.keys()"
      ],
      "metadata": {
        "colab": {
          "base_uri": "https://localhost:8080/"
        },
        "id": "xRcI6QGqKHro",
        "outputId": "44e0a5bb-6b26-4d2d-8b0d-7b9a6d79a5e8"
      },
      "execution_count": null,
      "outputs": [
        {
          "output_type": "execute_result",
          "data": {
            "text/plain": [
              "RangeIndex(start=0, stop=4, step=1)"
            ]
          },
          "metadata": {},
          "execution_count": 25
        }
      ]
    },
    {
      "cell_type": "code",
      "source": [
        "column_names = df.columns.tolist()\n",
        "\n",
        "print(column_names)"
      ],
      "metadata": {
        "colab": {
          "base_uri": "https://localhost:8080/"
        },
        "id": "gKbwijxVKz88",
        "outputId": "414caf39-1dde-4231-ac32-3fcec4dd73ff"
      },
      "execution_count": null,
      "outputs": [
        {
          "output_type": "stream",
          "name": "stdout",
          "text": [
            "[0, 1, 2, 3]\n"
          ]
        }
      ]
    },
    {
      "cell_type": "code",
      "source": [
        "# Taking only useful data from dataset\n",
        "df= df.iloc[:,[17,16,14,11]].values\n"
      ],
      "metadata": {
        "id": "HyYYullpACfE"
      },
      "execution_count": null,
      "outputs": []
    },
    {
      "cell_type": "markdown",
      "source": [
        "Taking Care of missing data"
      ],
      "metadata": {
        "id": "GqVMj8GZAKzc"
      }
    },
    {
      "cell_type": "code",
      "source": [
        "# Discarding observations having missing data\n",
        "data = pd.DataFrame(df)\n",
        "df = data.dropna(axis = 0,how = 'any')\n",
        "X = df.iloc[:, :-1].values"
      ],
      "metadata": {
        "id": "O8vUSZlcAHh4"
      },
      "execution_count": null,
      "outputs": []
    },
    {
      "cell_type": "code",
      "source": [
        "# Storing rating saperately to use it later\n",
        "rating = X[:,-1]"
      ],
      "metadata": {
        "id": "xmMFKX8pAogg"
      },
      "execution_count": null,
      "outputs": []
    },
    {
      "cell_type": "code",
      "source": [
        "y = df.iloc[:, -1].values"
      ],
      "metadata": {
        "id": "Mkcoou9bAqBS"
      },
      "execution_count": null,
      "outputs": []
    },
    {
      "cell_type": "code",
      "source": [
        "# Encoding True/False value as 1/0\n",
        "from sklearn.preprocessing import LabelEncoder\n",
        "le = LabelEncoder()\n",
        "y = le.fit_transform(y)"
      ],
      "metadata": {
        "id": "dq3v0mDPAtlM"
      },
      "execution_count": null,
      "outputs": []
    },
    {
      "cell_type": "markdown",
      "source": [
        "**Visualizing Dataset**"
      ],
      "metadata": {
        "id": "CjHQq7StA1F-"
      }
    },
    {
      "cell_type": "code",
      "source": [
        "df.head(-1)"
      ],
      "metadata": {
        "colab": {
          "base_uri": "https://localhost:8080/",
          "height": 424
        },
        "id": "4WIlmYIpAw-Z",
        "outputId": "fc7477a4-9ab6-45c9-c4a3-b7392af14aa8"
      },
      "execution_count": null,
      "outputs": [
        {
          "output_type": "execute_result",
          "data": {
            "text/plain": [
              "                                             0  \\\n",
              "0                                       Kindle   \n",
              "1                                    very fast   \n",
              "2      Beginner tablet for our 9 year old son.   \n",
              "3                                      Good!!!   \n",
              "4                    Fantastic Tablet for kids   \n",
              "...                                        ...   \n",
              "34618                           Wonderful unit   \n",
              "34619                              Works great   \n",
              "34620                                 the best   \n",
              "34621                                  Love it   \n",
              "34622                 Try it, you will like it   \n",
              "\n",
              "                                                       1    2      3  \n",
              "0      This product so far has not disappointed. My c...  5.0   True  \n",
              "1      great for beginner or experienced person. Boug...  5.0   True  \n",
              "2      Inexpensive tablet for him to use and learn on...  5.0   True  \n",
              "3      I've had my Fire HD 8 two weeks now and I love...  4.0   True  \n",
              "4      I bought this for my grand daughter when she c...  5.0   True  \n",
              "...                                                  ...  ...    ...  \n",
              "34618  Can use it for best streaming. Can watch all t...  5.0   True  \n",
              "34619  I am now able to stream tv and movies from aro...  4.0   True  \n",
              "34620  best streaming device , very portable , amazin...  5.0  False  \n",
              "34621  Simply the best to watch tv series and movies....  5.0   True  \n",
              "34622  I was looking for ways to cut cost from a rais...  4.0   True  \n",
              "\n",
              "[34060 rows x 4 columns]"
            ],
            "text/html": [
              "\n",
              "  <div id=\"df-0a46a268-54dd-45ee-8910-8528cd4aebb6\">\n",
              "    <div class=\"colab-df-container\">\n",
              "      <div>\n",
              "<style scoped>\n",
              "    .dataframe tbody tr th:only-of-type {\n",
              "        vertical-align: middle;\n",
              "    }\n",
              "\n",
              "    .dataframe tbody tr th {\n",
              "        vertical-align: top;\n",
              "    }\n",
              "\n",
              "    .dataframe thead th {\n",
              "        text-align: right;\n",
              "    }\n",
              "</style>\n",
              "<table border=\"1\" class=\"dataframe\">\n",
              "  <thead>\n",
              "    <tr style=\"text-align: right;\">\n",
              "      <th></th>\n",
              "      <th>0</th>\n",
              "      <th>1</th>\n",
              "      <th>2</th>\n",
              "      <th>3</th>\n",
              "    </tr>\n",
              "  </thead>\n",
              "  <tbody>\n",
              "    <tr>\n",
              "      <th>0</th>\n",
              "      <td>Kindle</td>\n",
              "      <td>This product so far has not disappointed. My c...</td>\n",
              "      <td>5.0</td>\n",
              "      <td>True</td>\n",
              "    </tr>\n",
              "    <tr>\n",
              "      <th>1</th>\n",
              "      <td>very fast</td>\n",
              "      <td>great for beginner or experienced person. Boug...</td>\n",
              "      <td>5.0</td>\n",
              "      <td>True</td>\n",
              "    </tr>\n",
              "    <tr>\n",
              "      <th>2</th>\n",
              "      <td>Beginner tablet for our 9 year old son.</td>\n",
              "      <td>Inexpensive tablet for him to use and learn on...</td>\n",
              "      <td>5.0</td>\n",
              "      <td>True</td>\n",
              "    </tr>\n",
              "    <tr>\n",
              "      <th>3</th>\n",
              "      <td>Good!!!</td>\n",
              "      <td>I've had my Fire HD 8 two weeks now and I love...</td>\n",
              "      <td>4.0</td>\n",
              "      <td>True</td>\n",
              "    </tr>\n",
              "    <tr>\n",
              "      <th>4</th>\n",
              "      <td>Fantastic Tablet for kids</td>\n",
              "      <td>I bought this for my grand daughter when she c...</td>\n",
              "      <td>5.0</td>\n",
              "      <td>True</td>\n",
              "    </tr>\n",
              "    <tr>\n",
              "      <th>...</th>\n",
              "      <td>...</td>\n",
              "      <td>...</td>\n",
              "      <td>...</td>\n",
              "      <td>...</td>\n",
              "    </tr>\n",
              "    <tr>\n",
              "      <th>34618</th>\n",
              "      <td>Wonderful unit</td>\n",
              "      <td>Can use it for best streaming. Can watch all t...</td>\n",
              "      <td>5.0</td>\n",
              "      <td>True</td>\n",
              "    </tr>\n",
              "    <tr>\n",
              "      <th>34619</th>\n",
              "      <td>Works great</td>\n",
              "      <td>I am now able to stream tv and movies from aro...</td>\n",
              "      <td>4.0</td>\n",
              "      <td>True</td>\n",
              "    </tr>\n",
              "    <tr>\n",
              "      <th>34620</th>\n",
              "      <td>the best</td>\n",
              "      <td>best streaming device , very portable , amazin...</td>\n",
              "      <td>5.0</td>\n",
              "      <td>False</td>\n",
              "    </tr>\n",
              "    <tr>\n",
              "      <th>34621</th>\n",
              "      <td>Love it</td>\n",
              "      <td>Simply the best to watch tv series and movies....</td>\n",
              "      <td>5.0</td>\n",
              "      <td>True</td>\n",
              "    </tr>\n",
              "    <tr>\n",
              "      <th>34622</th>\n",
              "      <td>Try it, you will like it</td>\n",
              "      <td>I was looking for ways to cut cost from a rais...</td>\n",
              "      <td>4.0</td>\n",
              "      <td>True</td>\n",
              "    </tr>\n",
              "  </tbody>\n",
              "</table>\n",
              "<p>34060 rows × 4 columns</p>\n",
              "</div>\n",
              "      <button class=\"colab-df-convert\" onclick=\"convertToInteractive('df-0a46a268-54dd-45ee-8910-8528cd4aebb6')\"\n",
              "              title=\"Convert this dataframe to an interactive table.\"\n",
              "              style=\"display:none;\">\n",
              "        \n",
              "  <svg xmlns=\"http://www.w3.org/2000/svg\" height=\"24px\"viewBox=\"0 0 24 24\"\n",
              "       width=\"24px\">\n",
              "    <path d=\"M0 0h24v24H0V0z\" fill=\"none\"/>\n",
              "    <path d=\"M18.56 5.44l.94 2.06.94-2.06 2.06-.94-2.06-.94-.94-2.06-.94 2.06-2.06.94zm-11 1L8.5 8.5l.94-2.06 2.06-.94-2.06-.94L8.5 2.5l-.94 2.06-2.06.94zm10 10l.94 2.06.94-2.06 2.06-.94-2.06-.94-.94-2.06-.94 2.06-2.06.94z\"/><path d=\"M17.41 7.96l-1.37-1.37c-.4-.4-.92-.59-1.43-.59-.52 0-1.04.2-1.43.59L10.3 9.45l-7.72 7.72c-.78.78-.78 2.05 0 2.83L4 21.41c.39.39.9.59 1.41.59.51 0 1.02-.2 1.41-.59l7.78-7.78 2.81-2.81c.8-.78.8-2.07 0-2.86zM5.41 20L4 18.59l7.72-7.72 1.47 1.35L5.41 20z\"/>\n",
              "  </svg>\n",
              "      </button>\n",
              "      \n",
              "  <style>\n",
              "    .colab-df-container {\n",
              "      display:flex;\n",
              "      flex-wrap:wrap;\n",
              "      gap: 12px;\n",
              "    }\n",
              "\n",
              "    .colab-df-convert {\n",
              "      background-color: #E8F0FE;\n",
              "      border: none;\n",
              "      border-radius: 50%;\n",
              "      cursor: pointer;\n",
              "      display: none;\n",
              "      fill: #1967D2;\n",
              "      height: 32px;\n",
              "      padding: 0 0 0 0;\n",
              "      width: 32px;\n",
              "    }\n",
              "\n",
              "    .colab-df-convert:hover {\n",
              "      background-color: #E2EBFA;\n",
              "      box-shadow: 0px 1px 2px rgba(60, 64, 67, 0.3), 0px 1px 3px 1px rgba(60, 64, 67, 0.15);\n",
              "      fill: #174EA6;\n",
              "    }\n",
              "\n",
              "    [theme=dark] .colab-df-convert {\n",
              "      background-color: #3B4455;\n",
              "      fill: #D2E3FC;\n",
              "    }\n",
              "\n",
              "    [theme=dark] .colab-df-convert:hover {\n",
              "      background-color: #434B5C;\n",
              "      box-shadow: 0px 1px 3px 1px rgba(0, 0, 0, 0.15);\n",
              "      filter: drop-shadow(0px 1px 2px rgba(0, 0, 0, 0.3));\n",
              "      fill: #FFFFFF;\n",
              "    }\n",
              "  </style>\n",
              "\n",
              "      <script>\n",
              "        const buttonEl =\n",
              "          document.querySelector('#df-0a46a268-54dd-45ee-8910-8528cd4aebb6 button.colab-df-convert');\n",
              "        buttonEl.style.display =\n",
              "          google.colab.kernel.accessAllowed ? 'block' : 'none';\n",
              "\n",
              "        async function convertToInteractive(key) {\n",
              "          const element = document.querySelector('#df-0a46a268-54dd-45ee-8910-8528cd4aebb6');\n",
              "          const dataTable =\n",
              "            await google.colab.kernel.invokeFunction('convertToInteractive',\n",
              "                                                     [key], {});\n",
              "          if (!dataTable) return;\n",
              "\n",
              "          const docLinkHtml = 'Like what you see? Visit the ' +\n",
              "            '<a target=\"_blank\" href=https://colab.research.google.com/notebooks/data_table.ipynb>data table notebook</a>'\n",
              "            + ' to learn more about interactive tables.';\n",
              "          element.innerHTML = '';\n",
              "          dataTable['output_type'] = 'display_data';\n",
              "          await google.colab.output.renderOutput(dataTable, element);\n",
              "          const docLink = document.createElement('div');\n",
              "          docLink.innerHTML = docLinkHtml;\n",
              "          element.appendChild(docLink);\n",
              "        }\n",
              "      </script>\n",
              "    </div>\n",
              "  </div>\n",
              "  "
            ]
          },
          "metadata": {},
          "execution_count": 10
        }
      ]
    },
    {
      "cell_type": "code",
      "source": [
        "print(X)\n",
        "print(y)"
      ],
      "metadata": {
        "colab": {
          "base_uri": "https://localhost:8080/"
        },
        "id": "8yNSwyDdA7f6",
        "outputId": "92cb4e53-52cc-416b-9a9c-43dbaa890bc9"
      },
      "execution_count": null,
      "outputs": [
        {
          "output_type": "stream",
          "name": "stdout",
          "text": [
            "[['Kindle'\n",
            "  'This product so far has not disappointed. My children love to use it and I like the ability to monitor control what content they see with ease.'\n",
            "  5.0]\n",
            " ['very fast'\n",
            "  'great for beginner or experienced person. Bought as a gift and she loves it'\n",
            "  5.0]\n",
            " ['Beginner tablet for our 9 year old son.'\n",
            "  'Inexpensive tablet for him to use and learn on, step up from the NABI. He was thrilled with it, learn how to Skype on it already...'\n",
            "  5.0]\n",
            " ...\n",
            " ['Love it'\n",
            "  'Simply the best to watch tv series and movies. It works even better if you are an Amazon Prime subscriber, with access to a many free goodies.'\n",
            "  5.0]\n",
            " ['Try it, you will like it'\n",
            "  'I was looking for ways to cut cost from a raising cable bill and a friend suggested I try the Amazon Fire. At first I didn���t know if this was something I could do. Once I was able to maneuver through the process, I love it.'\n",
            "  4.0]\n",
            " ['Great little device'\n",
            "  'I enjoy my kindle tv, it beats paying for cable every month ������'\n",
            "  4.0]]\n",
            "[1 1 1 ... 1 1 1]\n"
          ]
        }
      ]
    },
    {
      "cell_type": "markdown",
      "source": [
        "Cleaning the Dataset"
      ],
      "metadata": {
        "id": "YPlQ41gnA-iR"
      }
    },
    {
      "cell_type": "code",
      "source": [
        "import re\n",
        "import nltk\n",
        "# Downloading stopwords which does not having much significance\n",
        "nltk.download('stopwords')\n",
        "from nltk.corpus import stopwords"
      ],
      "metadata": {
        "colab": {
          "base_uri": "https://localhost:8080/"
        },
        "id": "i1XRDN4oA94c",
        "outputId": "dab06d74-a1b7-496f-dcee-71b3ea1c4954"
      },
      "execution_count": null,
      "outputs": [
        {
          "output_type": "stream",
          "name": "stderr",
          "text": [
            "[nltk_data] Downloading package stopwords to /root/nltk_data...\n",
            "[nltk_data]   Unzipping corpora/stopwords.zip.\n"
          ]
        }
      ]
    },
    {
      "cell_type": "code",
      "source": [
        "# Stemmer will reduce words in their root form\n",
        "from nltk.stem.porter import PorterStemmer\n",
        "ps = PorterStemmer()\n",
        "all_stopwords = stopwords.words('english')"
      ],
      "metadata": {
        "id": "OUlS35E8BC49"
      },
      "execution_count": null,
      "outputs": []
    },
    {
      "cell_type": "code",
      "source": [
        "# Removing some stopwords which have significance effect in building this model\n",
        "rem = ['not', 'ain', 'aren', \"aren't\", 'couldn', \"couldn't\", 'didn', \"didn't\", 'doesn', \"doesn't\", 'hadn', \"hadn't\", 'hasn',\n",
        "       \"hasn't\", 'haven', \"haven't\", 'isn', \"isn't\", 'ma', 'mightn', \"mightn't\", 'mustn', \"mustn't\", 'needn', \"needn't\", 'shan',\n",
        "       \"shan't\", 'shouldn', \"shouldn't\", 'wasn', \"wasn't\", 'weren', \"weren't\", 'won', \"won't\", 'wouldn', \"wouldn't\", 'don', \"don't\",\n",
        "       'just', 'too', 'very', 'no', 'nor', 'only', 'own', 'same', 'again', 'against', 'but',]\n",
        "for s in rem:\n",
        "   all_stopwords.remove(s)"
      ],
      "metadata": {
        "id": "HK3XrGg_BF7F"
      },
      "execution_count": null,
      "outputs": []
    },
    {
      "cell_type": "code",
      "source": [
        "def find_clean_text(temp):\n",
        "  # Removing all characters other than alphabet\n",
        "  temp = re.sub('[^a-zA-Z]', ' ', temp)\n",
        "  temp = temp.lower()\n",
        "  temp = temp.split()\n",
        "  temp = [ps.stem(word) for word in temp if not word in set(all_stopwords)]\n",
        "  temp = ' '.join(temp)\n",
        "  return temp"
      ],
      "metadata": {
        "id": "zNQIq8adBPLy"
      },
      "execution_count": null,
      "outputs": []
    },
    {
      "cell_type": "code",
      "source": [
        "corpus = []\n",
        "for i in range(X.shape[0]):\n",
        "  # Concatanating both title and detailed review\n",
        "  temp = X[i][0] + ' ' + X[i][1]\n",
        "  temp = find_clean_text(temp)\n",
        "  corpus.append(temp)"
      ],
      "metadata": {
        "id": "TkZQDnWTBQwS"
      },
      "execution_count": null,
      "outputs": []
    },
    {
      "cell_type": "markdown",
      "source": [
        "Creating the Bag of Words model"
      ],
      "metadata": {
        "id": "736p9DPEBVBW"
      }
    },
    {
      "cell_type": "code",
      "source": [
        "from sklearn.feature_extraction.text import CountVectorizer\n",
        "cv = CountVectorizer(max_features = 3000)\n",
        "X = cv.fit_transform(corpus).toarray()\n",
        "\n",
        "# Adding rating in the matrix of feature X\n",
        "rating = rating.reshape(rating.shape[0],1)\n",
        "X = np.append(X,rating,axis=1)"
      ],
      "metadata": {
        "id": "LGq-r7pqBXMq"
      },
      "execution_count": null,
      "outputs": []
    },
    {
      "cell_type": "markdown",
      "source": [
        "Splitting the dataset into the Training set and Test set"
      ],
      "metadata": {
        "id": "3xiz2NAKBb1-"
      }
    },
    {
      "cell_type": "code",
      "source": [
        "# Splitting dataset into test set and train set which have equal percentage of data with both positive and negative review\n",
        "#This is done as precautionary measure considering that very small number (approx 1300 out of 34000) data have negative review.\n",
        "pos_x = []\n",
        "pos_y = []\n",
        "neg_x = []\n",
        "neg_y = []\n",
        "for i in range(X.shape[0]):\n",
        "  if y[i]==1:\n",
        "    pos_x.append(X[i])\n",
        "    pos_y.append(y[i])\n",
        "  else:\n",
        "    neg_x.append(X[i])\n",
        "    neg_y.append(y[i])\n",
        "\n",
        "from sklearn.model_selection import train_test_split\n",
        "X_train1, X_test1, y_train1, y_test1 = train_test_split(pos_x, pos_y, test_size = 0.20)\n",
        "X_train, X_test, y_train, y_test = train_test_split(neg_x, neg_y, test_size = 0.20)\n",
        "\n",
        "for i in range(len(X_train1)):\n",
        "  X_train.append(X_train1[i])\n",
        "  y_train.append(y_train1[i])\n",
        "for i in range(len(X_test1)):\n",
        "  X_test.append(X_test1[i])\n",
        "  y_test.append(y_test1[i])\n",
        "X_train = np.array(X_train)\n",
        "X_test = np.array(X_test)\n",
        "y_train = np.array(y_train)\n",
        "y_test = np.array(y_test)"
      ],
      "metadata": {
        "id": "aUNlmcD7BZGR"
      },
      "execution_count": null,
      "outputs": []
    },
    {
      "cell_type": "code",
      "source": [
        "import matplotlib.pyplot as plt\n",
        "\n",
        "# Count the number of positive and negative samples in each set\n",
        "train_pos_count = sum(y_train == 1)\n",
        "train_neg_count = sum(y_train == 0)\n",
        "test_pos_count = sum(y_test == 1)\n",
        "test_neg_count = sum(y_test == 0)\n",
        "\n",
        "# Create the bar plot\n",
        "labels = ['Train Positive', 'Train Negative', 'Test Positive', 'Test Negative']\n",
        "counts = [train_pos_count, train_neg_count, test_pos_count, test_neg_count]\n",
        "\n",
        "plt.bar(labels, counts)\n",
        "plt.xlabel('Dataset Split')\n",
        "plt.ylabel('Sample Count')\n",
        "plt.title('Distribution of Positive and Negative Samples')\n",
        "plt.suptitle(\"Aditya Panditrao 22MCB0032\")\n",
        "\n",
        "# Display the plot\n",
        "plt.show()"
      ],
      "metadata": {
        "colab": {
          "base_uri": "https://localhost:8080/",
          "height": 497
        },
        "id": "3xjan6MtBhVi",
        "outputId": "72c11ab3-235c-4354-9fb1-a1aede923e06"
      },
      "execution_count": null,
      "outputs": [
        {
          "output_type": "display_data",
          "data": {
            "text/plain": [
              "<Figure size 640x480 with 1 Axes>"
            ],
            "image/png": "[encoded data removed]"
          },
          "metadata": {}
        }
      ]
    },
    {
      "cell_type": "markdown",
      "source": [
        "**Training the Multinomial Naive Bayes model on the Training set**\n"
      ],
      "metadata": {
        "id": "LfIhpZ4-Bk9g"
      }
    },
    {
      "cell_type": "code",
      "source": [
        "from sklearn.naive_bayes import MultinomialNB\n",
        "classifier = MultinomialNB()\n",
        "classifier.fit(X_train, y_train)"
      ],
      "metadata": {
        "colab": {
          "base_uri": "https://localhost:8080/",
          "height": 75
        },
        "id": "0LeREc-VBllf",
        "outputId": "14818c45-6537-451a-915b-9d88b31aa962"
      },
      "execution_count": null,
      "outputs": [
        {
          "output_type": "execute_result",
          "data": {
            "text/plain": [
              "MultinomialNB()"
            ],
            "text/html": [
              "<style>#sk-container-id-1 {color: black;background-color: white;}#sk-container-id-1 pre{padding: 0;}#sk-container-id-1 div.sk-toggleable {background-color: white;}#sk-container-id-1 label.sk-toggleable__label {cursor: pointer;display: block;width: 100%;margin-bottom: 0;padding: 0.3em;box-sizing: border-box;text-align: center;}#sk-container-id-1 label.sk-toggleable__label-arrow:before {content: \"▸\";float: left;margin-right: 0.25em;color: #696969;}#sk-container-id-1 label.sk-toggleable__label-arrow:hover:before {color: black;}#sk-container-id-1 div.sk-estimator:hover label.sk-toggleable__label-arrow:before {color: black;}#sk-container-id-1 div.sk-toggleable__content {max-height: 0;max-width: 0;overflow: hidden;text-align: left;background-color: #f0f8ff;}#sk-container-id-1 div.sk-toggleable__content pre {margin: 0.2em;color: black;border-radius: 0.25em;background-color: #f0f8ff;}#sk-container-id-1 input.sk-toggleable__control:checked~div.sk-toggleable__content {max-height: 200px;max-width: 100%;overflow: auto;}#sk-container-id-1 input.sk-toggleable__control:checked~label.sk-toggleable__label-arrow:before {content: \"▾\";}#sk-container-id-1 div.sk-estimator input.sk-toggleable__control:checked~label.sk-toggleable__label {background-color: #d4ebff;}#sk-container-id-1 div.sk-label input.sk-toggleable__control:checked~label.sk-toggleable__label {background-color: #d4ebff;}#sk-container-id-1 input.sk-hidden--visually {border: 0;clip: rect(1px 1px 1px 1px);clip: rect(1px, 1px, 1px, 1px);height: 1px;margin: -1px;overflow: hidden;padding: 0;position: absolute;width: 1px;}#sk-container-id-1 div.sk-estimator {font-family: monospace;background-color: #f0f8ff;border: 1px dotted black;border-radius: 0.25em;box-sizing: border-box;margin-bottom: 0.5em;}#sk-container-id-1 div.sk-estimator:hover {background-color: #d4ebff;}#sk-container-id-1 div.sk-parallel-item::after {content: \"\";width: 100%;border-bottom: 1px solid gray;flex-grow: 1;}#sk-container-id-1 div.sk-label:hover label.sk-toggleable__label {background-color: #d4ebff;}#sk-container-id-1 div.sk-serial::before {content: \"\";position: absolute;border-left: 1px solid gray;box-sizing: border-box;top: 0;bottom: 0;left: 50%;z-index: 0;}#sk-container-id-1 div.sk-serial {display: flex;flex-direction: column;align-items: center;background-color: white;padding-right: 0.2em;padding-left: 0.2em;position: relative;}#sk-container-id-1 div.sk-item {position: relative;z-index: 1;}#sk-container-id-1 div.sk-parallel {display: flex;align-items: stretch;justify-content: center;background-color: white;position: relative;}#sk-container-id-1 div.sk-item::before, #sk-container-id-1 div.sk-parallel-item::before {content: \"\";position: absolute;border-left: 1px solid gray;box-sizing: border-box;top: 0;bottom: 0;left: 50%;z-index: -1;}#sk-container-id-1 div.sk-parallel-item {display: flex;flex-direction: column;z-index: 1;position: relative;background-color: white;}#sk-container-id-1 div.sk-parallel-item:first-child::after {align-self: flex-end;width: 50%;}#sk-container-id-1 div.sk-parallel-item:last-child::after {align-self: flex-start;width: 50%;}#sk-container-id-1 div.sk-parallel-item:only-child::after {width: 0;}#sk-container-id-1 div.sk-dashed-wrapped {border: 1px dashed gray;margin: 0 0.4em 0.5em 0.4em;box-sizing: border-box;padding-bottom: 0.4em;background-color: white;}#sk-container-id-1 div.sk-label label {font-family: monospace;font-weight: bold;display: inline-block;line-height: 1.2em;}#sk-container-id-1 div.sk-label-container {text-align: center;}#sk-container-id-1 div.sk-container {/* jupyter's `normalize.less` sets `[hidden] { display: none; }` but bootstrap.min.css set `[hidden] { display: none !important; }` so we also need the `!important` here to be able to override the default hidden behavior on the sphinx rendered scikit-learn.org. See: https://github.com/scikit-learn/scikit-learn/issues/21755 */display: inline-block !important;position: relative;}#sk-container-id-1 div.sk-text-repr-fallback {display: none;}</style><div id=\"sk-container-id-1\" class=\"sk-top-container\"><div class=\"sk-text-repr-fallback\"><pre>MultinomialNB()</pre><b>In a Jupyter environment, please rerun this cell to show the HTML representation or trust the notebook. <br />On GitHub, the HTML representation is unable to render, please try loading this page with nbviewer.org.</b></div><div class=\"sk-container\" hidden><div class=\"sk-item\"><div class=\"sk-estimator sk-toggleable\"><input class=\"sk-toggleable__control sk-hidden--visually\" id=\"sk-estimator-id-1\" type=\"checkbox\" checked><label for=\"sk-estimator-id-1\" class=\"sk-toggleable__label sk-toggleable__label-arrow\">MultinomialNB</label><div class=\"sk-toggleable__content\"><pre>MultinomialNB()</pre></div></div></div></div></div>"
            ]
          },
          "metadata": {},
          "execution_count": 21
        }
      ]
    },
    {
      "cell_type": "markdown",
      "source": [
        "Making the Confusion Matrix"
      ],
      "metadata": {
        "id": "NOc5QlYRBr94"
      }
    },
    {
      "cell_type": "code",
      "source": [
        "from sklearn.metrics import confusion_matrix, accuracy_score\n",
        "\n",
        "print('Result on training set :')\n",
        "print('Confusion matrix :')\n",
        "print(confusion_matrix(y_train,classifier.predict(X_train)))\n",
        "print('accuracy : ',accuracy_score(y_train, classifier.predict(X_train)))\n",
        "\n",
        "print('Result on test set :')\n",
        "y_pred = classifier.predict(X_test)\n",
        "print('Confusion matrix :')\n",
        "print(confusion_matrix(y_test, y_pred))\n",
        "print('accuracy',accuracy_score(y_test, y_pred))"
      ],
      "metadata": {
        "colab": {
          "base_uri": "https://localhost:8080/"
        },
        "id": "_KiDSYGUBp3b",
        "outputId": "dfeff20c-4ab0-48a7-c364-ab12a4d0b47c"
      },
      "execution_count": null,
      "outputs": [
        {
          "output_type": "stream",
          "name": "stdout",
          "text": [
            "Result on training set :\n",
            "Confusion matrix :\n",
            "[[  777   330]\n",
            " [  904 25237]]\n",
            "accuracy :  0.954712272460364\n",
            "Result on test set :\n",
            "Confusion matrix :\n",
            "[[ 187   90]\n",
            " [ 262 6274]]\n",
            "accuracy 0.9483340672244239\n"
          ]
        }
      ]
    },
    {
      "cell_type": "code",
      "source": [
        "import matplotlib.pyplot as plt\n",
        "import seaborn as sns\n",
        "\n",
        "# Plot confusion matrix for training set\n",
        "train_cm = confusion_matrix(y_train, classifier.predict(X_train))\n",
        "plt.figure(figsize=(8, 6))\n",
        "sns.heatmap(train_cm, annot=True, cmap='Blues')\n",
        "plt.title('Confusion Matrix - Training Set')\n",
        "plt.suptitle(\"Aditya Panditrao 22MCB0032\")\n",
        "plt.xlabel('Predicted Labels')\n",
        "plt.ylabel('True Labels')\n",
        "plt.show()\n",
        "\n",
        "# Plot confusion matrix for test set\n",
        "test_cm = confusion_matrix(y_test, y_pred)\n",
        "plt.figure(figsize=(8, 6))\n",
        "sns.heatmap(test_cm, annot=True, cmap='Blues')\n",
        "plt.title('Confusion Matrix - Test Set')\n",
        "plt.suptitle(\"Aditya Panditrao 22MCB0032\")\n",
        "plt.xlabel('Predicted Labels')\n",
        "plt.ylabel('True Labels')\n",
        "plt.show()\n"
      ],
      "metadata": {
        "colab": {
          "base_uri": "https://localhost:8080/",
          "height": 1000
        },
        "id": "_zzIib_wByKv",
        "outputId": "60721a74-d527-479d-e2e9-9507cec2307d"
      },
      "execution_count": null,
      "outputs": [
        {
          "output_type": "display_data",
          "data": {
            "text/plain": [
              "<Figure size 800x600 with 2 Axes>"
            ],
            "image/png": "[encoded data removed]"
          },
          "metadata": {}
        },
        {
          "output_type": "display_data",
          "data": {
            "text/plain": [
              "<Figure size 800x600 with 2 Axes>"
            ],
            "image/png": "[encoded data removed]"
          },
          "metadata": {}
        }
      ]
    }
  ]
}